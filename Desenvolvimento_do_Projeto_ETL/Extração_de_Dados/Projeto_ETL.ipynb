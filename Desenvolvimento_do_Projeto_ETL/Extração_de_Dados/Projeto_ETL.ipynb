{
  "nbformat": 4,
  "nbformat_minor": 0,
  "metadata": {
    "colab": {
      "name": "Projeto_ETL.ipynb",
      "provenance": [],
      "collapsed_sections": [],
      "toc_visible": true,
      "mount_file_id": "1u82fYnl2nsAIBAUbqRNSHk7nPHBlBVMF",
      "authorship_tag": "ABX9TyOlTgDbR9l0Z1fps2Iy5v3S",
      "include_colab_link": true
    },
    "kernelspec": {
      "name": "python3",
      "display_name": "Python 3"
    },
    "language_info": {
      "name": "python"
    }
  },
  "cells": [
    {
      "cell_type": "markdown",
      "metadata": {
        "id": "view-in-github",
        "colab_type": "text"
      },
      "source": [
        "<a href=\"https://colab.research.google.com/github/Edivaldo16/projeto_etl/blob/main/Projeto_ETL.ipynb\" target=\"_parent\"><img src=\"https://colab.research.google.com/assets/colab-badge.svg\" alt=\"Open In Colab\"/></a>"
      ]
    },
    {
      "cell_type": "markdown",
      "metadata": {
        "id": "-WynuTeb85D-"
      },
      "source": [
        "# Realizando extração de dados - Parte 1"
      ]
    },
    {
      "cell_type": "code",
      "metadata": {
        "id": "2oNSRI2p0had"
      },
      "source": [
        "import pandas as pd"
      ],
      "execution_count": 2,
      "outputs": []
    },
    {
      "cell_type": "code",
      "metadata": {
        "id": "xgyXMZT4-F0t"
      },
      "source": [
        "# Caso o comando \"pd.read_csv('nome_arquivo') o compilador do jupyter dará erro  \n",
        "# Unicodecomo pode ser visto com a execução do código abaixo"
      ],
      "execution_count": null,
      "outputs": []
    },
    {
      "cell_type": "code",
      "metadata": {
        "id": "MXCbWqiQ-PMC"
      },
      "source": [
        "dataframe = pd.read_csv('Ocorrencia_mod.csv', sep = \";\")"
      ],
      "execution_count": null,
      "outputs": []
    },
    {
      "cell_type": "code",
      "metadata": {
        "id": "qah6YcEK-ldv"
      },
      "source": [
        "# Para correção do erro faz-se necessário digitar o seguinte comando:\n",
        "# dataframe = pd.read_csv('nome_arquivo.csv', encoding='latin-1')\n",
        "# Para mais dicas de correção do erro ver site:\n",
        "# https://stackoverflow.com/questions/5552555/unicodedecodeerror-invalid-continuation-byte"
      ],
      "execution_count": null,
      "outputs": []
    },
    {
      "cell_type": "code",
      "metadata": {
        "id": "ksp8sMV9A9AT"
      },
      "source": [
        "# Observações: Por \"default\" a biliboteca pandas tenta localizar colunas\n",
        "# através do separador \",\" e isso às vezes acaba impossibilitando a correta\n",
        "# visualização da tabela como pode ser observado a seguir"
      ],
      "execution_count": null,
      "outputs": []
    },
    {
      "cell_type": "code",
      "metadata": {
        "colab": {
          "base_uri": "https://localhost:8080/",
          "height": 437
        },
        "id": "WMBnnow_BY4L",
        "outputId": "72687da8-3707-448f-83f3-d4f805d06cb4"
      },
      "source": [
        "df = pd.read_csv('Ocorrencia_mod.csv',encoding='latin-1')\n",
        "df"
      ],
      "execution_count": 19,
      "outputs": [
        {
          "output_type": "execute_result",
          "data": {
            "text/html": [
              "<div>\n",
              "<style scoped>\n",
              "    .dataframe tbody tr th:only-of-type {\n",
              "        vertical-align: middle;\n",
              "    }\n",
              "\n",
              "    .dataframe tbody tr th {\n",
              "        vertical-align: top;\n",
              "    }\n",
              "\n",
              "    .dataframe thead th {\n",
              "        text-align: right;\n",
              "    }\n",
              "</style>\n",
              "<table border=\"1\" class=\"dataframe\">\n",
              "  <thead>\n",
              "    <tr style=\"text-align: right;\">\n",
              "      <th></th>\n",
              "      <th>codigo_ocorrencia;codigo_ocorrencia2;ocorrencia_classificacao;ocorrencia_cidade;ocorrencia_uf;ocorrencia_aerodromo;ocorrencia_dia;ocorrencia_hora;total_recomendacoes</th>\n",
              "    </tr>\n",
              "  </thead>\n",
              "  <tbody>\n",
              "    <tr>\n",
              "      <th>0</th>\n",
              "      <td>40211;40211;INCIDENTE;RIO DE JANEIRO;RJ;****;0...</td>\n",
              "    </tr>\n",
              "    <tr>\n",
              "      <th>1</th>\n",
              "      <td>40349;40349;INCIDENTE;BELÉM;PA;SBBE;03/01/2010...</td>\n",
              "    </tr>\n",
              "    <tr>\n",
              "      <th>2</th>\n",
              "      <td>40351;40351;INCIDENTE;RIO DE JANEIRO;RJ;SBRJ;0...</td>\n",
              "    </tr>\n",
              "    <tr>\n",
              "      <th>3</th>\n",
              "      <td>39527;39527;ACIDENTE;LUCAS DO RIO VERDE;MT;***...</td>\n",
              "    </tr>\n",
              "    <tr>\n",
              "      <th>4</th>\n",
              "      <td>40324;40324;INCIDENTE;PELOTAS;RS;SBPK;05/01/20...</td>\n",
              "    </tr>\n",
              "    <tr>\n",
              "      <th>...</th>\n",
              "      <td>...</td>\n",
              "    </tr>\n",
              "    <tr>\n",
              "      <th>6109</th>\n",
              "      <td>80245;80245;INCIDENTE;RECIFE;PE;SBRF;15/08/202...</td>\n",
              "    </tr>\n",
              "    <tr>\n",
              "      <th>6110</th>\n",
              "      <td>80247;80247;INCIDENTE;PORTO VELHO;RO;SBPV;16/0...</td>\n",
              "    </tr>\n",
              "    <tr>\n",
              "      <th>6111</th>\n",
              "      <td>80251;80251;INCIDENTE;BELÉM;PA;SBBE;17/08/2021...</td>\n",
              "    </tr>\n",
              "    <tr>\n",
              "      <th>6112</th>\n",
              "      <td>80257;80257;ACIDENTE;DOM AQUINO;MT;****;18/08/...</td>\n",
              "    </tr>\n",
              "    <tr>\n",
              "      <th>6113</th>\n",
              "      <td>80259;80259;INCIDENTE;CAMPINAS;SP;SBKP;18/08/2...</td>\n",
              "    </tr>\n",
              "  </tbody>\n",
              "</table>\n",
              "<p>6114 rows × 1 columns</p>\n",
              "</div>"
            ],
            "text/plain": [
              "     codigo_ocorrencia;codigo_ocorrencia2;ocorrencia_classificacao;ocorrencia_cidade;ocorrencia_uf;ocorrencia_aerodromo;ocorrencia_dia;ocorrencia_hora;total_recomendacoes\n",
              "0     40211;40211;INCIDENTE;RIO DE JANEIRO;RJ;****;0...                                                                                                                   \n",
              "1     40349;40349;INCIDENTE;BELÉM;PA;SBBE;03/01/2010...                                                                                                                   \n",
              "2     40351;40351;INCIDENTE;RIO DE JANEIRO;RJ;SBRJ;0...                                                                                                                   \n",
              "3     39527;39527;ACIDENTE;LUCAS DO RIO VERDE;MT;***...                                                                                                                   \n",
              "4     40324;40324;INCIDENTE;PELOTAS;RS;SBPK;05/01/20...                                                                                                                   \n",
              "...                                                 ...                                                                                                                   \n",
              "6109  80245;80245;INCIDENTE;RECIFE;PE;SBRF;15/08/202...                                                                                                                   \n",
              "6110  80247;80247;INCIDENTE;PORTO VELHO;RO;SBPV;16/0...                                                                                                                   \n",
              "6111  80251;80251;INCIDENTE;BELÉM;PA;SBBE;17/08/2021...                                                                                                                   \n",
              "6112  80257;80257;ACIDENTE;DOM AQUINO;MT;****;18/08/...                                                                                                                   \n",
              "6113  80259;80259;INCIDENTE;CAMPINAS;SP;SBKP;18/08/2...                                                                                                                   \n",
              "\n",
              "[6114 rows x 1 columns]"
            ]
          },
          "metadata": {},
          "execution_count": 19
        }
      ]
    },
    {
      "cell_type": "code",
      "metadata": {
        "id": "cdxbNI8lBi3K"
      },
      "source": [
        "# Para correção desse problema coloca-se o separador igual a \";\""
      ],
      "execution_count": null,
      "outputs": []
    },
    {
      "cell_type": "code",
      "metadata": {
        "colab": {
          "base_uri": "https://localhost:8080/",
          "height": 454
        },
        "id": "3pRiHzPH6Tv4",
        "outputId": "d587d366-fe22-4e7f-c086-44ea30d0f85d"
      },
      "source": [
        "df = pd.read_csv('Ocorrencia_mod.csv', sep = \";\",encoding='latin-1')\n",
        "df"
      ],
      "execution_count": 17,
      "outputs": [
        {
          "output_type": "execute_result",
          "data": {
            "text/html": [
              "<div>\n",
              "<style scoped>\n",
              "    .dataframe tbody tr th:only-of-type {\n",
              "        vertical-align: middle;\n",
              "    }\n",
              "\n",
              "    .dataframe tbody tr th {\n",
              "        vertical-align: top;\n",
              "    }\n",
              "\n",
              "    .dataframe thead th {\n",
              "        text-align: right;\n",
              "    }\n",
              "</style>\n",
              "<table border=\"1\" class=\"dataframe\">\n",
              "  <thead>\n",
              "    <tr style=\"text-align: right;\">\n",
              "      <th></th>\n",
              "      <th>codigo_ocorrencia</th>\n",
              "      <th>codigo_ocorrencia2</th>\n",
              "      <th>ocorrencia_classificacao</th>\n",
              "      <th>ocorrencia_cidade</th>\n",
              "      <th>ocorrencia_uf</th>\n",
              "      <th>ocorrencia_aerodromo</th>\n",
              "      <th>ocorrencia_dia</th>\n",
              "      <th>ocorrencia_hora</th>\n",
              "      <th>total_recomendacoes</th>\n",
              "    </tr>\n",
              "  </thead>\n",
              "  <tbody>\n",
              "    <tr>\n",
              "      <th>0</th>\n",
              "      <td>40211</td>\n",
              "      <td>40211</td>\n",
              "      <td>INCIDENTE</td>\n",
              "      <td>RIO DE JANEIRO</td>\n",
              "      <td>RJ</td>\n",
              "      <td>****</td>\n",
              "      <td>03/01/2010</td>\n",
              "      <td>12:00:00</td>\n",
              "      <td>0</td>\n",
              "    </tr>\n",
              "    <tr>\n",
              "      <th>1</th>\n",
              "      <td>40349</td>\n",
              "      <td>40349</td>\n",
              "      <td>INCIDENTE</td>\n",
              "      <td>BELÉM</td>\n",
              "      <td>PA</td>\n",
              "      <td>SBBE</td>\n",
              "      <td>03/01/2010</td>\n",
              "      <td>11:05:00</td>\n",
              "      <td>0</td>\n",
              "    </tr>\n",
              "    <tr>\n",
              "      <th>2</th>\n",
              "      <td>40351</td>\n",
              "      <td>40351</td>\n",
              "      <td>INCIDENTE</td>\n",
              "      <td>RIO DE JANEIRO</td>\n",
              "      <td>RJ</td>\n",
              "      <td>SBRJ</td>\n",
              "      <td>03/01/2010</td>\n",
              "      <td>03:00:00</td>\n",
              "      <td>0</td>\n",
              "    </tr>\n",
              "    <tr>\n",
              "      <th>3</th>\n",
              "      <td>39527</td>\n",
              "      <td>39527</td>\n",
              "      <td>ACIDENTE</td>\n",
              "      <td>LUCAS DO RIO VERDE</td>\n",
              "      <td>MT</td>\n",
              "      <td>****</td>\n",
              "      <td>04/01/2010</td>\n",
              "      <td>17:30:00</td>\n",
              "      <td>0</td>\n",
              "    </tr>\n",
              "    <tr>\n",
              "      <th>4</th>\n",
              "      <td>40324</td>\n",
              "      <td>40324</td>\n",
              "      <td>INCIDENTE</td>\n",
              "      <td>PELOTAS</td>\n",
              "      <td>RS</td>\n",
              "      <td>SBPK</td>\n",
              "      <td>05/01/2010</td>\n",
              "      <td>19:25:00</td>\n",
              "      <td>0</td>\n",
              "    </tr>\n",
              "    <tr>\n",
              "      <th>...</th>\n",
              "      <td>...</td>\n",
              "      <td>...</td>\n",
              "      <td>...</td>\n",
              "      <td>...</td>\n",
              "      <td>...</td>\n",
              "      <td>...</td>\n",
              "      <td>...</td>\n",
              "      <td>...</td>\n",
              "      <td>...</td>\n",
              "    </tr>\n",
              "    <tr>\n",
              "      <th>6109</th>\n",
              "      <td>80245</td>\n",
              "      <td>80245</td>\n",
              "      <td>INCIDENTE</td>\n",
              "      <td>RECIFE</td>\n",
              "      <td>PE</td>\n",
              "      <td>SBRF</td>\n",
              "      <td>15/08/2021</td>\n",
              "      <td>15:05:00</td>\n",
              "      <td>0</td>\n",
              "    </tr>\n",
              "    <tr>\n",
              "      <th>6110</th>\n",
              "      <td>80247</td>\n",
              "      <td>80247</td>\n",
              "      <td>INCIDENTE</td>\n",
              "      <td>PORTO VELHO</td>\n",
              "      <td>RO</td>\n",
              "      <td>SBPV</td>\n",
              "      <td>16/08/2021</td>\n",
              "      <td>02:30:00</td>\n",
              "      <td>0</td>\n",
              "    </tr>\n",
              "    <tr>\n",
              "      <th>6111</th>\n",
              "      <td>80251</td>\n",
              "      <td>80251</td>\n",
              "      <td>INCIDENTE</td>\n",
              "      <td>BELÉM</td>\n",
              "      <td>PA</td>\n",
              "      <td>SBBE</td>\n",
              "      <td>17/08/2021</td>\n",
              "      <td>15:45:00</td>\n",
              "      <td>0</td>\n",
              "    </tr>\n",
              "    <tr>\n",
              "      <th>6112</th>\n",
              "      <td>80257</td>\n",
              "      <td>80257</td>\n",
              "      <td>ACIDENTE</td>\n",
              "      <td>DOM AQUINO</td>\n",
              "      <td>MT</td>\n",
              "      <td>****</td>\n",
              "      <td>18/08/2021</td>\n",
              "      <td>16:00:00</td>\n",
              "      <td>0</td>\n",
              "    </tr>\n",
              "    <tr>\n",
              "      <th>6113</th>\n",
              "      <td>80259</td>\n",
              "      <td>80259</td>\n",
              "      <td>INCIDENTE</td>\n",
              "      <td>CAMPINAS</td>\n",
              "      <td>SP</td>\n",
              "      <td>SBKP</td>\n",
              "      <td>18/08/2021</td>\n",
              "      <td>12:45:00</td>\n",
              "      <td>0</td>\n",
              "    </tr>\n",
              "  </tbody>\n",
              "</table>\n",
              "<p>6114 rows × 9 columns</p>\n",
              "</div>"
            ],
            "text/plain": [
              "      codigo_ocorrencia  ...  total_recomendacoes\n",
              "0                 40211  ...                    0\n",
              "1                 40349  ...                    0\n",
              "2                 40351  ...                    0\n",
              "3                 39527  ...                    0\n",
              "4                 40324  ...                    0\n",
              "...                 ...  ...                  ...\n",
              "6109              80245  ...                    0\n",
              "6110              80247  ...                    0\n",
              "6111              80251  ...                    0\n",
              "6112              80257  ...                    0\n",
              "6113              80259  ...                    0\n",
              "\n",
              "[6114 rows x 9 columns]"
            ]
          },
          "metadata": {},
          "execution_count": 17
        }
      ]
    }
  ]
}
