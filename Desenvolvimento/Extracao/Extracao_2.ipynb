{
  "nbformat": 4,
  "nbformat_minor": 0,
  "metadata": {
    "colab": {
      "name": "Extracao_2.ipynb",
      "provenance": [],
      "collapsed_sections": [],
      "mount_file_id": "171udr3aO6g2hqXfalC7Oni68oco8X9oZ",
      "authorship_tag": "ABX9TyOhaDzvebpskNfyUArHpnM/",
      "include_colab_link": true
    },
    "kernelspec": {
      "name": "python3",
      "display_name": "Python 3"
    },
    "language_info": {
      "name": "python"
    }
  },
  "cells": [
    {
      "cell_type": "markdown",
      "metadata": {
        "id": "view-in-github",
        "colab_type": "text"
      },
      "source": [
        "<a href=\"https://colab.research.google.com/github/Edivaldo16/projeto_etl/blob/main/Extracao_2.ipynb\" target=\"_parent\"><img src=\"https://colab.research.google.com/assets/colab-badge.svg\" alt=\"Open In Colab\"/></a>"
      ]
    },
    {
      "cell_type": "markdown",
      "metadata": {
        "id": "-WynuTeb85D-"
      },
      "source": [
        "# Realizando extração de dados - Parte 2"
      ]
    },
    {
      "cell_type": "code",
      "metadata": {
        "id": "2oNSRI2p0had"
      },
      "source": [
        "import pandas as pd"
      ],
      "execution_count": null,
      "outputs": []
    },
    {
      "cell_type": "code",
      "metadata": {
        "id": "xgyXMZT4-F0t"
      },
      "source": [
        "# Caso o comando \"pd.read_csv('nome_arquivo') o compilador do jupyter dará erro  \n",
        "# Unicodecomo pode ser visto com a execução do código abaixo"
      ],
      "execution_count": null,
      "outputs": []
    },
    {
      "cell_type": "code",
      "metadata": {
        "id": "MXCbWqiQ-PMC"
      },
      "source": [
        "dataframe = pd.read_csv('Ocorrencia_mod.csv', sep = \";\")"
      ],
      "execution_count": null,
      "outputs": []
    },
    {
      "cell_type": "code",
      "metadata": {
        "id": "qah6YcEK-ldv"
      },
      "source": [
        "# Para correção do erro faz-se necessário digitar o seguinte comando:\n",
        "# dataframe = pd.read_csv('nome_arquivo.csv', encoding='latin-1')\n",
        "# Para mais dicas de correção do erro ver site:\n",
        "# https://stackoverflow.com/questions/5552555/unicodedecodeerror-invalid-continuation-byte"
      ],
      "execution_count": null,
      "outputs": []
    },
    {
      "cell_type": "code",
      "metadata": {
        "id": "ksp8sMV9A9AT"
      },
      "source": [
        "# Observações: Por \"default\" a biliboteca pandas tenta localizar colunas\n",
        "# através do separador \",\" e isso às vezes acaba impossibilitando a correta\n",
        "# visualização da tabela como pode ser observado a seguir"
      ],
      "execution_count": null,
      "outputs": []
    },
    {
      "cell_type": "code",
      "metadata": {
        "colab": {
          "base_uri": "https://localhost:8080/",
          "height": 417
        },
        "id": "WMBnnow_BY4L",
        "outputId": "c5519230-87f2-49ef-de6c-8fa900e4cc11"
      },
      "source": [
        "df = pd.read_csv('/content/drive/MyDrive/Colab Notebooks/Fundamentos de ETL com Python/Extração_Validação/Ocorrencia_mod.csv',encoding='latin-1')\n",
        "df"
      ],
      "execution_count": null,
      "outputs": [
        {
          "output_type": "execute_result",
          "data": {
            "text/html": [
              "<div>\n",
              "<style scoped>\n",
              "    .dataframe tbody tr th:only-of-type {\n",
              "        vertical-align: middle;\n",
              "    }\n",
              "\n",
              "    .dataframe tbody tr th {\n",
              "        vertical-align: top;\n",
              "    }\n",
              "\n",
              "    .dataframe thead th {\n",
              "        text-align: right;\n",
              "    }\n",
              "</style>\n",
              "<table border=\"1\" class=\"dataframe\">\n",
              "  <thead>\n",
              "    <tr style=\"text-align: right;\">\n",
              "      <th></th>\n",
              "      <th>codigo_ocorrencia;codigo_ocorrencia2;ocorrencia_classificacao;ocorrencia_cidade;ocorrencia_uf;ocorrencia_aerodromo;ocorrencia_dia;ocorrencia_hora;total_recomendacoes</th>\n",
              "    </tr>\n",
              "  </thead>\n",
              "  <tbody>\n",
              "    <tr>\n",
              "      <th>0</th>\n",
              "      <td>40211;40211;INCIDENTE;RIO DE JANEIRO;RJ;****;0...</td>\n",
              "    </tr>\n",
              "    <tr>\n",
              "      <th>1</th>\n",
              "      <td>40349;40349;INCIDENTE;BELÉM;PA;SBBE;03/01/2010...</td>\n",
              "    </tr>\n",
              "    <tr>\n",
              "      <th>2</th>\n",
              "      <td>40351;40351;INCIDENTE;RIO DE JANEIRO;RJ;SBRJ;0...</td>\n",
              "    </tr>\n",
              "    <tr>\n",
              "      <th>3</th>\n",
              "      <td>39527;39527;ACIDENTE;LUCAS DO RIO VERDE;MT;***...</td>\n",
              "    </tr>\n",
              "    <tr>\n",
              "      <th>4</th>\n",
              "      <td>40324;40324;INCIDENTE;PELOTAS;RS;SBPK;05/01/20...</td>\n",
              "    </tr>\n",
              "    <tr>\n",
              "      <th>...</th>\n",
              "      <td>...</td>\n",
              "    </tr>\n",
              "    <tr>\n",
              "      <th>6109</th>\n",
              "      <td>80245;80245;INCIDENTE;RECIFE;PE;SBRF;15/08/202...</td>\n",
              "    </tr>\n",
              "    <tr>\n",
              "      <th>6110</th>\n",
              "      <td>80247;80247;INCIDENTE;PORTO VELHO;RO;SBPV;16/0...</td>\n",
              "    </tr>\n",
              "    <tr>\n",
              "      <th>6111</th>\n",
              "      <td>80251;80251;INCIDENTE;BELÉM;PA;SBBE;17/08/2021...</td>\n",
              "    </tr>\n",
              "    <tr>\n",
              "      <th>6112</th>\n",
              "      <td>80257;80257;ACIDENTE;DOM AQUINO;MT;****;18/08/...</td>\n",
              "    </tr>\n",
              "    <tr>\n",
              "      <th>6113</th>\n",
              "      <td>80259;80259;INCIDENTE;CAMPINAS;SP;SBKP;18/08/2...</td>\n",
              "    </tr>\n",
              "  </tbody>\n",
              "</table>\n",
              "<p>6114 rows × 1 columns</p>\n",
              "</div>"
            ],
            "text/plain": [
              "     codigo_ocorrencia;codigo_ocorrencia2;ocorrencia_classificacao;ocorrencia_cidade;ocorrencia_uf;ocorrencia_aerodromo;ocorrencia_dia;ocorrencia_hora;total_recomendacoes\n",
              "0     40211;40211;INCIDENTE;RIO DE JANEIRO;RJ;****;0...                                                                                                                   \n",
              "1     40349;40349;INCIDENTE;BELÉM;PA;SBBE;03/01/2010...                                                                                                                   \n",
              "2     40351;40351;INCIDENTE;RIO DE JANEIRO;RJ;SBRJ;0...                                                                                                                   \n",
              "3     39527;39527;ACIDENTE;LUCAS DO RIO VERDE;MT;***...                                                                                                                   \n",
              "4     40324;40324;INCIDENTE;PELOTAS;RS;SBPK;05/01/20...                                                                                                                   \n",
              "...                                                 ...                                                                                                                   \n",
              "6109  80245;80245;INCIDENTE;RECIFE;PE;SBRF;15/08/202...                                                                                                                   \n",
              "6110  80247;80247;INCIDENTE;PORTO VELHO;RO;SBPV;16/0...                                                                                                                   \n",
              "6111  80251;80251;INCIDENTE;BELÉM;PA;SBBE;17/08/2021...                                                                                                                   \n",
              "6112  80257;80257;ACIDENTE;DOM AQUINO;MT;****;18/08/...                                                                                                                   \n",
              "6113  80259;80259;INCIDENTE;CAMPINAS;SP;SBKP;18/08/2...                                                                                                                   \n",
              "\n",
              "[6114 rows x 1 columns]"
            ]
          },
          "metadata": {},
          "execution_count": 8
        }
      ]
    },
    {
      "cell_type": "code",
      "metadata": {
        "id": "cdxbNI8lBi3K"
      },
      "source": [
        "# Para correção desse problema coloca-se o separador igual a \";\""
      ],
      "execution_count": null,
      "outputs": []
    },
    {
      "cell_type": "code",
      "metadata": {
        "colab": {
          "base_uri": "https://localhost:8080/",
          "height": 454
        },
        "id": "3pRiHzPH6Tv4",
        "outputId": "faf91af8-1732-48f6-cfc1-e7f22d199cb8"
      },
      "source": [
        "df = pd.read_csv('/content/drive/MyDrive/Colab Notebooks/Fundamentos de ETL com Python/Extração_Validação/Ocorrencia_mod.csv', sep = \";\", parse_dates=['ocorrencia_dia'],encoding='latin-1')\n",
        "df"
      ],
      "execution_count": null,
      "outputs": [
        {
          "output_type": "execute_result",
          "data": {
            "text/html": [
              "<div>\n",
              "<style scoped>\n",
              "    .dataframe tbody tr th:only-of-type {\n",
              "        vertical-align: middle;\n",
              "    }\n",
              "\n",
              "    .dataframe tbody tr th {\n",
              "        vertical-align: top;\n",
              "    }\n",
              "\n",
              "    .dataframe thead th {\n",
              "        text-align: right;\n",
              "    }\n",
              "</style>\n",
              "<table border=\"1\" class=\"dataframe\">\n",
              "  <thead>\n",
              "    <tr style=\"text-align: right;\">\n",
              "      <th></th>\n",
              "      <th>codigo_ocorrencia</th>\n",
              "      <th>codigo_ocorrencia2</th>\n",
              "      <th>ocorrencia_classificacao</th>\n",
              "      <th>ocorrencia_cidade</th>\n",
              "      <th>ocorrencia_uf</th>\n",
              "      <th>ocorrencia_aerodromo</th>\n",
              "      <th>ocorrencia_dia</th>\n",
              "      <th>ocorrencia_hora</th>\n",
              "      <th>total_recomendacoes</th>\n",
              "    </tr>\n",
              "  </thead>\n",
              "  <tbody>\n",
              "    <tr>\n",
              "      <th>0</th>\n",
              "      <td>40211</td>\n",
              "      <td>40211</td>\n",
              "      <td>INCIDENTE</td>\n",
              "      <td>RIO DE JANEIRO</td>\n",
              "      <td>RJ</td>\n",
              "      <td>****</td>\n",
              "      <td>2010-03-01</td>\n",
              "      <td>12:00:00</td>\n",
              "      <td>0</td>\n",
              "    </tr>\n",
              "    <tr>\n",
              "      <th>1</th>\n",
              "      <td>40349</td>\n",
              "      <td>40349</td>\n",
              "      <td>INCIDENTE</td>\n",
              "      <td>BELÉM</td>\n",
              "      <td>PA</td>\n",
              "      <td>SBBE</td>\n",
              "      <td>2010-03-01</td>\n",
              "      <td>11:05:00</td>\n",
              "      <td>0</td>\n",
              "    </tr>\n",
              "    <tr>\n",
              "      <th>2</th>\n",
              "      <td>40351</td>\n",
              "      <td>40351</td>\n",
              "      <td>INCIDENTE</td>\n",
              "      <td>RIO DE JANEIRO</td>\n",
              "      <td>RJ</td>\n",
              "      <td>SBRJ</td>\n",
              "      <td>2010-03-01</td>\n",
              "      <td>03:00:00</td>\n",
              "      <td>0</td>\n",
              "    </tr>\n",
              "    <tr>\n",
              "      <th>3</th>\n",
              "      <td>39527</td>\n",
              "      <td>39527</td>\n",
              "      <td>ACIDENTE</td>\n",
              "      <td>LUCAS DO RIO VERDE</td>\n",
              "      <td>MT</td>\n",
              "      <td>****</td>\n",
              "      <td>2010-04-01</td>\n",
              "      <td>17:30:00</td>\n",
              "      <td>0</td>\n",
              "    </tr>\n",
              "    <tr>\n",
              "      <th>4</th>\n",
              "      <td>40324</td>\n",
              "      <td>40324</td>\n",
              "      <td>INCIDENTE</td>\n",
              "      <td>PELOTAS</td>\n",
              "      <td>RS</td>\n",
              "      <td>SBPK</td>\n",
              "      <td>2010-05-01</td>\n",
              "      <td>19:25:00</td>\n",
              "      <td>0</td>\n",
              "    </tr>\n",
              "    <tr>\n",
              "      <th>...</th>\n",
              "      <td>...</td>\n",
              "      <td>...</td>\n",
              "      <td>...</td>\n",
              "      <td>...</td>\n",
              "      <td>...</td>\n",
              "      <td>...</td>\n",
              "      <td>...</td>\n",
              "      <td>...</td>\n",
              "      <td>...</td>\n",
              "    </tr>\n",
              "    <tr>\n",
              "      <th>6109</th>\n",
              "      <td>80245</td>\n",
              "      <td>80245</td>\n",
              "      <td>INCIDENTE</td>\n",
              "      <td>RECIFE</td>\n",
              "      <td>PE</td>\n",
              "      <td>SBRF</td>\n",
              "      <td>2021-08-15</td>\n",
              "      <td>15:05:00</td>\n",
              "      <td>0</td>\n",
              "    </tr>\n",
              "    <tr>\n",
              "      <th>6110</th>\n",
              "      <td>80247</td>\n",
              "      <td>80247</td>\n",
              "      <td>INCIDENTE</td>\n",
              "      <td>PORTO VELHO</td>\n",
              "      <td>RO</td>\n",
              "      <td>SBPV</td>\n",
              "      <td>2021-08-16</td>\n",
              "      <td>02:30:00</td>\n",
              "      <td>0</td>\n",
              "    </tr>\n",
              "    <tr>\n",
              "      <th>6111</th>\n",
              "      <td>80251</td>\n",
              "      <td>80251</td>\n",
              "      <td>INCIDENTE</td>\n",
              "      <td>BELÉM</td>\n",
              "      <td>PA</td>\n",
              "      <td>SBBE</td>\n",
              "      <td>2021-08-17</td>\n",
              "      <td>15:45:00</td>\n",
              "      <td>0</td>\n",
              "    </tr>\n",
              "    <tr>\n",
              "      <th>6112</th>\n",
              "      <td>80257</td>\n",
              "      <td>80257</td>\n",
              "      <td>ACIDENTE</td>\n",
              "      <td>DOM AQUINO</td>\n",
              "      <td>MT</td>\n",
              "      <td>****</td>\n",
              "      <td>2021-08-18</td>\n",
              "      <td>16:00:00</td>\n",
              "      <td>0</td>\n",
              "    </tr>\n",
              "    <tr>\n",
              "      <th>6113</th>\n",
              "      <td>80259</td>\n",
              "      <td>80259</td>\n",
              "      <td>INCIDENTE</td>\n",
              "      <td>CAMPINAS</td>\n",
              "      <td>SP</td>\n",
              "      <td>SBKP</td>\n",
              "      <td>2021-08-18</td>\n",
              "      <td>12:45:00</td>\n",
              "      <td>0</td>\n",
              "    </tr>\n",
              "  </tbody>\n",
              "</table>\n",
              "<p>6114 rows × 9 columns</p>\n",
              "</div>"
            ],
            "text/plain": [
              "      codigo_ocorrencia  ...  total_recomendacoes\n",
              "0                 40211  ...                    0\n",
              "1                 40349  ...                    0\n",
              "2                 40351  ...                    0\n",
              "3                 39527  ...                    0\n",
              "4                 40324  ...                    0\n",
              "...                 ...  ...                  ...\n",
              "6109              80245  ...                    0\n",
              "6110              80247  ...                    0\n",
              "6111              80251  ...                    0\n",
              "6112              80257  ...                    0\n",
              "6113              80259  ...                    0\n",
              "\n",
              "[6114 rows x 9 columns]"
            ]
          },
          "metadata": {},
          "execution_count": 14
        }
      ]
    },
    {
      "cell_type": "code",
      "metadata": {
        "colab": {
          "base_uri": "https://localhost:8080/"
        },
        "id": "MMyEkXuTni7O",
        "outputId": "c4da05e0-9dc1-47bb-cb00-a1c779c60847"
      },
      "source": [
        "df.dtypes"
      ],
      "execution_count": null,
      "outputs": [
        {
          "output_type": "execute_result",
          "data": {
            "text/plain": [
              "codigo_ocorrencia                    int64\n",
              "codigo_ocorrencia2                   int64\n",
              "ocorrencia_classificacao            object\n",
              "ocorrencia_cidade                   object\n",
              "ocorrencia_uf                       object\n",
              "ocorrencia_aerodromo                object\n",
              "ocorrencia_dia              datetime64[ns]\n",
              "ocorrencia_hora                     object\n",
              "total_recomendacoes                  int64\n",
              "dtype: object"
            ]
          },
          "metadata": {},
          "execution_count": 15
        }
      ]
    },
    {
      "cell_type": "code",
      "metadata": {
        "colab": {
          "base_uri": "https://localhost:8080/"
        },
        "id": "wlsgyPJFqGQ9",
        "outputId": "d7c40b04-5b8d-4755-8b0c-9c8ba4d9ae0c"
      },
      "source": [
        "df.ocorrencia_dia"
      ],
      "execution_count": null,
      "outputs": [
        {
          "output_type": "execute_result",
          "data": {
            "text/plain": [
              "0      2010-03-01\n",
              "1      2010-03-01\n",
              "2      2010-03-01\n",
              "3      2010-04-01\n",
              "4      2010-05-01\n",
              "          ...    \n",
              "6109   2021-08-15\n",
              "6110   2021-08-16\n",
              "6111   2021-08-17\n",
              "6112   2021-08-18\n",
              "6113   2021-08-18\n",
              "Name: ocorrencia_dia, Length: 6114, dtype: datetime64[ns]"
            ]
          },
          "metadata": {},
          "execution_count": 16
        }
      ]
    },
    {
      "cell_type": "code",
      "metadata": {
        "colab": {
          "base_uri": "https://localhost:8080/"
        },
        "id": "HYG9w2zGqYKD",
        "outputId": "7a7a82ab-e506-47b2-d676-350912a8c583"
      },
      "source": [
        "df.ocorrencia_dia.dt.month"
      ],
      "execution_count": null,
      "outputs": [
        {
          "output_type": "execute_result",
          "data": {
            "text/plain": [
              "0       3\n",
              "1       3\n",
              "2       3\n",
              "3       4\n",
              "4       5\n",
              "       ..\n",
              "6109    8\n",
              "6110    8\n",
              "6111    8\n",
              "6112    8\n",
              "6113    8\n",
              "Name: ocorrencia_dia, Length: 6114, dtype: int64"
            ]
          },
          "metadata": {},
          "execution_count": 17
        }
      ]
    },
    {
      "cell_type": "code",
      "metadata": {
        "id": "dIk-zb4psODt"
      },
      "source": [
        "# Observações: Por default a coluna \"ocorrencia_dia\" \n",
        "# está sendo interpretada como \"objeto\" e, sua vez, deveria ser interpretado\n",
        "# do tipo \"data\". Para corrigir esse problema usamos o seguinte comando:\n",
        "# df = pd.read_csv('nome_do_arquivo',sep = \";\", parse_dates = [ocorrencia_dia],enconding = 'latin-1')\n",
        "# A função \"parse_dates\" faz que a coluna seja convertida para o tipo data."
      ],
      "execution_count": null,
      "outputs": []
    }
  ]
}
